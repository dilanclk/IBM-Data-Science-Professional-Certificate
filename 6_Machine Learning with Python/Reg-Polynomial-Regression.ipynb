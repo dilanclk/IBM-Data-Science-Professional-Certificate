{
  "metadata": {
    "kernelspec": {
      "name": "python",
      "display_name": "Pyolite",
      "language": "python"
    },
    "language_info": {
      "codemirror_mode": {
        "name": "python",
        "version": 3
      },
      "file_extension": ".py",
      "mimetype": "text/x-python",
      "name": "python",
      "nbconvert_exporter": "python",
      "pygments_lexer": "ipython3",
      "version": "3.8"
    },
    "widgets": {
      "state": {},
      "version": "1.1.2"
    }
  },
  "nbformat_minor": 4,
  "nbformat": 4,
  "cells": [
    {
      "cell_type": "markdown",
      "source": "<center>\n    <img src=\"https://cf-courses-data.s3.us.cloud-object-storage.appdomain.cloud/IBMDeveloperSkillsNetwork-ML0101EN-SkillsNetwork/labs/Module%202/images/IDSNlogo.png\" width=\"300\" alt=\"cognitiveclass.ai logo\"  />\n</center>\n\n# Polynomial Regression\n\nEstimated time needed: **15** minutes\n\n## Objectives\n\nAfter completing this lab you will be able to:\n\n*   Use scikit-learn to implement Polynomial Regression\n*   Create a model, train it, test it and use the model\n",
      "metadata": {
        "button": false,
        "new_sheet": false,
        "run_control": {
          "read_only": false
        }
      }
    },
    {
      "cell_type": "markdown",
      "source": "<h1>Table of contents</h1>\n\n<div class=\"alert alert-block alert-info\" style=\"margin-top: 20px\">\n    <ol>\n        <li><a href=\"https://#download_data\">Downloading Data</a></li>\n        <li><a href=\"https://#polynomial_regression\">Polynomial regression</a></li>\n        <li><a href=\"https://#evaluation\">Evaluation</a></li>\n        <li><a href=\"https://#practice\">Practice</a></li>\n    </ol>\n</div>\n<br>\n<hr>\n",
      "metadata": {}
    },
    {
      "cell_type": "markdown",
      "source": "### Importing Needed packages\n",
      "metadata": {
        "button": false,
        "new_sheet": false,
        "run_control": {
          "read_only": false
        }
      }
    },
    {
      "cell_type": "code",
      "source": "import piplite\nawait piplite.install(['pandas'])\nawait piplite.install(['matplotlib'])\nawait piplite.install(['numpy'])\nawait piplite.install(['scikit-learn'])\n\n\n",
      "metadata": {
        "trusted": true
      },
      "execution_count": 1,
      "outputs": []
    },
    {
      "cell_type": "code",
      "source": "#This function will download the dataset into your browser \n\nfrom pyodide.http import pyfetch\n\nasync def download(url, filename):\n    response = await pyfetch(url)\n    if response.status == 200:\n        with open(filename, \"wb\") as f:\n            f.write(await response.bytes())",
      "metadata": {
        "trusted": true
      },
      "execution_count": 2,
      "outputs": []
    },
    {
      "cell_type": "code",
      "source": "import matplotlib.pyplot as plt\nimport pandas as pd\nimport pylab as pl\nimport numpy as np\n%matplotlib inline\n",
      "metadata": {
        "button": false,
        "new_sheet": false,
        "run_control": {
          "read_only": false
        },
        "trusted": true
      },
      "execution_count": 3,
      "outputs": [
        {
          "name": "stderr",
          "text": "/lib/python3.9/site-packages/pandas/compat/__init__.py:124: UserWarning: Could not import the lzma module. Your installed Python is incomplete. Attempting to use lzma compression will result in a RuntimeError.\n  warnings.warn(msg)\n",
          "output_type": "stream"
        }
      ]
    },
    {
      "cell_type": "markdown",
      "source": "<h2 id=\"download_data\">Downloading Data</h2>\nTo download the data, we will use !wget to download it from IBM Object Storage.\n",
      "metadata": {
        "button": false,
        "new_sheet": false,
        "run_control": {
          "read_only": false
        }
      }
    },
    {
      "cell_type": "code",
      "source": "path= \"https://cf-courses-data.s3.us.cloud-object-storage.appdomain.cloud/IBMDeveloperSkillsNetwork-ML0101EN-SkillsNetwork/labs/Module%202/data/FuelConsumptionCo2.csv\"",
      "metadata": {
        "button": false,
        "new_sheet": false,
        "run_control": {
          "read_only": false
        },
        "trusted": true
      },
      "execution_count": 4,
      "outputs": []
    },
    {
      "cell_type": "markdown",
      "source": "**Did you know?** When it comes to Machine Learning, you will likely be working with large datasets. As a business, where can you host your data? IBM is offering a unique opportunity for businesses, with 10 Tb of IBM Cloud Object Storage: [Sign up now for free](https://www.ibm.com/us-en/cloud/object-storage?utm_medium=Exinfluencer&utm_source=Exinfluencer&utm_content=000026UJ&utm_term=10006555&utm_id=NA-SkillsNetwork-Channel-SkillsNetworkCoursesIBMDeveloperSkillsNetworkML0101ENSkillsNetwork20718538-2021-01-01)\n",
      "metadata": {}
    },
    {
      "cell_type": "markdown",
      "source": "## Understanding the Data\n\n### `FuelConsumption.csv`:\n\nWe have downloaded a fuel consumption dataset, **`FuelConsumption.csv`**, which contains model-specific fuel consumption ratings and estimated carbon dioxide emissions for new light-duty vehicles for retail sale in Canada. [Dataset source](http://open.canada.ca/data/en/dataset/98f1a129-f628-4ce4-b24d-6f16bf24dd64?utm_medium=Exinfluencer&utm_source=Exinfluencer&utm_content=000026UJ&utm_term=10006555&utm_id=NA-SkillsNetwork-Channel-SkillsNetworkCoursesIBMDeveloperSkillsNetworkML0101ENSkillsNetwork20718538-2021-01-01)\n\n*   **MODELYEAR** e.g. 2014\n*   **MAKE** e.g. Acura\n*   **MODEL** e.g. ILX\n*   **VEHICLE CLASS** e.g. SUV\n*   **ENGINE SIZE** e.g. 4.7\n*   **CYLINDERS** e.g 6\n*   **TRANSMISSION** e.g. A6\n*   **FUEL CONSUMPTION in CITY(L/100 km)** e.g. 9.9\n*   **FUEL CONSUMPTION in HWY (L/100 km)** e.g. 8.9\n*   **FUEL CONSUMPTION COMB (L/100 km)** e.g. 9.2\n*   **CO2 EMISSIONS (g/km)** e.g. 182   --> low --> 0\n",
      "metadata": {
        "button": false,
        "new_sheet": false,
        "run_control": {
          "read_only": false
        }
      }
    },
    {
      "cell_type": "markdown",
      "source": "## Reading the data in\n",
      "metadata": {
        "button": false,
        "new_sheet": false,
        "run_control": {
          "read_only": false
        }
      }
    },
    {
      "cell_type": "code",
      "source": "await download(path, \"FuelConsumption.csv\")",
      "metadata": {
        "trusted": true
      },
      "execution_count": 5,
      "outputs": []
    },
    {
      "cell_type": "code",
      "source": "df = pd.read_csv(\"FuelConsumption.csv\")\n\n# take a look at the dataset\ndf.head()",
      "metadata": {
        "button": false,
        "new_sheet": false,
        "run_control": {
          "read_only": false
        },
        "trusted": true
      },
      "execution_count": 6,
      "outputs": [
        {
          "execution_count": 6,
          "output_type": "execute_result",
          "data": {
            "text/plain": "   MODELYEAR   MAKE       MODEL VEHICLECLASS  ENGINESIZE  CYLINDERS  \\\n0       2014  ACURA         ILX      COMPACT         2.0          4   \n1       2014  ACURA         ILX      COMPACT         2.4          4   \n2       2014  ACURA  ILX HYBRID      COMPACT         1.5          4   \n3       2014  ACURA     MDX 4WD  SUV - SMALL         3.5          6   \n4       2014  ACURA     RDX AWD  SUV - SMALL         3.5          6   \n\n  TRANSMISSION FUELTYPE  FUELCONSUMPTION_CITY  FUELCONSUMPTION_HWY  \\\n0          AS5        Z                   9.9                  6.7   \n1           M6        Z                  11.2                  7.7   \n2          AV7        Z                   6.0                  5.8   \n3          AS6        Z                  12.7                  9.1   \n4          AS6        Z                  12.1                  8.7   \n\n   FUELCONSUMPTION_COMB  FUELCONSUMPTION_COMB_MPG  CO2EMISSIONS  \n0                   8.5                        33           196  \n1                   9.6                        29           221  \n2                   5.9                        48           136  \n3                  11.1                        25           255  \n4                  10.6                        27           244  ",
            "text/html": "<div>\n<style scoped>\n    .dataframe tbody tr th:only-of-type {\n        vertical-align: middle;\n    }\n\n    .dataframe tbody tr th {\n        vertical-align: top;\n    }\n\n    .dataframe thead th {\n        text-align: right;\n    }\n</style>\n<table border=\"1\" class=\"dataframe\">\n  <thead>\n    <tr style=\"text-align: right;\">\n      <th></th>\n      <th>MODELYEAR</th>\n      <th>MAKE</th>\n      <th>MODEL</th>\n      <th>VEHICLECLASS</th>\n      <th>ENGINESIZE</th>\n      <th>CYLINDERS</th>\n      <th>TRANSMISSION</th>\n      <th>FUELTYPE</th>\n      <th>FUELCONSUMPTION_CITY</th>\n      <th>FUELCONSUMPTION_HWY</th>\n      <th>FUELCONSUMPTION_COMB</th>\n      <th>FUELCONSUMPTION_COMB_MPG</th>\n      <th>CO2EMISSIONS</th>\n    </tr>\n  </thead>\n  <tbody>\n    <tr>\n      <th>0</th>\n      <td>2014</td>\n      <td>ACURA</td>\n      <td>ILX</td>\n      <td>COMPACT</td>\n      <td>2.0</td>\n      <td>4</td>\n      <td>AS5</td>\n      <td>Z</td>\n      <td>9.9</td>\n      <td>6.7</td>\n      <td>8.5</td>\n      <td>33</td>\n      <td>196</td>\n    </tr>\n    <tr>\n      <th>1</th>\n      <td>2014</td>\n      <td>ACURA</td>\n      <td>ILX</td>\n      <td>COMPACT</td>\n      <td>2.4</td>\n      <td>4</td>\n      <td>M6</td>\n      <td>Z</td>\n      <td>11.2</td>\n      <td>7.7</td>\n      <td>9.6</td>\n      <td>29</td>\n      <td>221</td>\n    </tr>\n    <tr>\n      <th>2</th>\n      <td>2014</td>\n      <td>ACURA</td>\n      <td>ILX HYBRID</td>\n      <td>COMPACT</td>\n      <td>1.5</td>\n      <td>4</td>\n      <td>AV7</td>\n      <td>Z</td>\n      <td>6.0</td>\n      <td>5.8</td>\n      <td>5.9</td>\n      <td>48</td>\n      <td>136</td>\n    </tr>\n    <tr>\n      <th>3</th>\n      <td>2014</td>\n      <td>ACURA</td>\n      <td>MDX 4WD</td>\n      <td>SUV - SMALL</td>\n      <td>3.5</td>\n      <td>6</td>\n      <td>AS6</td>\n      <td>Z</td>\n      <td>12.7</td>\n      <td>9.1</td>\n      <td>11.1</td>\n      <td>25</td>\n      <td>255</td>\n    </tr>\n    <tr>\n      <th>4</th>\n      <td>2014</td>\n      <td>ACURA</td>\n      <td>RDX AWD</td>\n      <td>SUV - SMALL</td>\n      <td>3.5</td>\n      <td>6</td>\n      <td>AS6</td>\n      <td>Z</td>\n      <td>12.1</td>\n      <td>8.7</td>\n      <td>10.6</td>\n      <td>27</td>\n      <td>244</td>\n    </tr>\n  </tbody>\n</table>\n</div>"
          },
          "metadata": {}
        }
      ]
    },
    {
      "cell_type": "markdown",
      "source": "Let's select some features that we want to use for regression.\n",
      "metadata": {}
    },
    {
      "cell_type": "code",
      "source": "cdf = df[['ENGINESIZE','CYLINDERS','FUELCONSUMPTION_COMB','CO2EMISSIONS']]\ncdf.head(9)",
      "metadata": {
        "button": false,
        "new_sheet": false,
        "run_control": {
          "read_only": false
        },
        "trusted": true
      },
      "execution_count": 7,
      "outputs": [
        {
          "execution_count": 7,
          "output_type": "execute_result",
          "data": {
            "text/plain": "   ENGINESIZE  CYLINDERS  FUELCONSUMPTION_COMB  CO2EMISSIONS\n0         2.0          4                   8.5           196\n1         2.4          4                   9.6           221\n2         1.5          4                   5.9           136\n3         3.5          6                  11.1           255\n4         3.5          6                  10.6           244\n5         3.5          6                  10.0           230\n6         3.5          6                  10.1           232\n7         3.7          6                  11.1           255\n8         3.7          6                  11.6           267",
            "text/html": "<div>\n<style scoped>\n    .dataframe tbody tr th:only-of-type {\n        vertical-align: middle;\n    }\n\n    .dataframe tbody tr th {\n        vertical-align: top;\n    }\n\n    .dataframe thead th {\n        text-align: right;\n    }\n</style>\n<table border=\"1\" class=\"dataframe\">\n  <thead>\n    <tr style=\"text-align: right;\">\n      <th></th>\n      <th>ENGINESIZE</th>\n      <th>CYLINDERS</th>\n      <th>FUELCONSUMPTION_COMB</th>\n      <th>CO2EMISSIONS</th>\n    </tr>\n  </thead>\n  <tbody>\n    <tr>\n      <th>0</th>\n      <td>2.0</td>\n      <td>4</td>\n      <td>8.5</td>\n      <td>196</td>\n    </tr>\n    <tr>\n      <th>1</th>\n      <td>2.4</td>\n      <td>4</td>\n      <td>9.6</td>\n      <td>221</td>\n    </tr>\n    <tr>\n      <th>2</th>\n      <td>1.5</td>\n      <td>4</td>\n      <td>5.9</td>\n      <td>136</td>\n    </tr>\n    <tr>\n      <th>3</th>\n      <td>3.5</td>\n      <td>6</td>\n      <td>11.1</td>\n      <td>255</td>\n    </tr>\n    <tr>\n      <th>4</th>\n      <td>3.5</td>\n      <td>6</td>\n      <td>10.6</td>\n      <td>244</td>\n    </tr>\n    <tr>\n      <th>5</th>\n      <td>3.5</td>\n      <td>6</td>\n      <td>10.0</td>\n      <td>230</td>\n    </tr>\n    <tr>\n      <th>6</th>\n      <td>3.5</td>\n      <td>6</td>\n      <td>10.1</td>\n      <td>232</td>\n    </tr>\n    <tr>\n      <th>7</th>\n      <td>3.7</td>\n      <td>6</td>\n      <td>11.1</td>\n      <td>255</td>\n    </tr>\n    <tr>\n      <th>8</th>\n      <td>3.7</td>\n      <td>6</td>\n      <td>11.6</td>\n      <td>267</td>\n    </tr>\n  </tbody>\n</table>\n</div>"
          },
          "metadata": {}
        }
      ]
    },
    {
      "cell_type": "markdown",
      "source": "Let's plot Emission values with respect to Engine size:\n",
      "metadata": {}
    },
    {
      "cell_type": "code",
      "source": "plt.scatter(cdf.ENGINESIZE, cdf.CO2EMISSIONS,  color='blue')\nplt.xlabel(\"Engine size\")\nplt.ylabel(\"Emission\")\nplt.show()",
      "metadata": {
        "button": false,
        "new_sheet": false,
        "run_control": {
          "read_only": false
        },
        "scrolled": true,
        "trusted": true
      },
      "execution_count": 8,
      "outputs": [
        {
          "output_type": "display_data",
          "data": {
            "text/plain": "<pyolite.display.Image at 0x3f5a090>",
            "image/png": "[encoded data removed]"
          },
          "metadata": {}
        },
        {
          "output_type": "display_data",
          "data": {
            "text/plain": "<Figure size 432x288 with 0 Axes>"
          },
          "metadata": {}
        }
      ]
    },
    {
      "cell_type": "markdown",
      "source": "#### Creating train and test dataset\n\nTrain/Test Split involves splitting the dataset into training and testing sets respectively, which are mutually exclusive. After which, you train with the training set and test with the testing set.\n",
      "metadata": {
        "button": false,
        "new_sheet": false,
        "run_control": {
          "read_only": false
        }
      }
    },
    {
      "cell_type": "code",
      "source": "msk = np.random.rand(len(df)) < 0.8\ntrain = cdf[msk]\ntest = cdf[~msk]",
      "metadata": {
        "button": false,
        "new_sheet": false,
        "run_control": {
          "read_only": false
        },
        "trusted": true
      },
      "execution_count": 9,
      "outputs": []
    },
    {
      "cell_type": "markdown",
      "source": "<h2 id=\"polynomial_regression\">Polynomial regression</h2>\n",
      "metadata": {
        "button": false,
        "new_sheet": false,
        "run_control": {
          "read_only": false
        }
      }
    },
    {
      "cell_type": "markdown",
      "source": "Sometimes, the trend of data is not really linear, and looks curvy. In this case we can use Polynomial regression methods. In fact, many different regressions exist that can be used to fit whatever the dataset looks like, such as quadratic, cubic, and so on, and it can go on and on to infinite degrees.\n\nIn essence, we can call all of these, polynomial regression, where the relationship between the independent variable x and the dependent variable y is modeled as an nth degree polynomial in x. Lets say you want to have a polynomial regression (let's make 2 degree polynomial):\n\n$$y = b + \\theta\\_1  x + \\theta\\_2 x^2$$\n\nNow, the question is: how we can fit our data on this equation while we have only x values, such as **Engine Size**?\nWell, we can create a few additional features: 1, $x$, and $x^2$.\n\n**PolynomialFeatures()** function in Scikit-learn library, drives a new feature sets from the original feature set. That is, a matrix will be generated consisting of all polynomial combinations of the features with degree less than or equal to the specified degree. For example, lets say the original feature set has only one feature, *ENGINESIZE*. Now, if we select the degree of the polynomial to be 2, then it generates 3 features, degree=0, degree=1 and degree=2:\n",
      "metadata": {
        "button": false,
        "new_sheet": false,
        "run_control": {
          "read_only": false
        }
      }
    },
    {
      "cell_type": "code",
      "source": "from sklearn.preprocessing import PolynomialFeatures\nfrom sklearn import linear_model\ntrain_x = np.asanyarray(train[['ENGINESIZE']])\ntrain_y = np.asanyarray(train[['CO2EMISSIONS']])\n\ntest_x = np.asanyarray(test[['ENGINESIZE']])\ntest_y = np.asanyarray(test[['CO2EMISSIONS']])\n\n\npoly = PolynomialFeatures(degree=2)\ntrain_x_poly = poly.fit_transform(train_x)\ntrain_x_poly",
      "metadata": {
        "button": false,
        "new_sheet": false,
        "run_control": {
          "read_only": false
        },
        "trusted": true
      },
      "execution_count": 10,
      "outputs": [
        {
          "execution_count": 10,
          "output_type": "execute_result",
          "data": {
            "text/plain": "array([[ 1.  ,  2.  ,  4.  ],\n       [ 1.  ,  2.4 ,  5.76],\n       [ 1.  ,  1.5 ,  2.25],\n       ...,\n       [ 1.  ,  3.  ,  9.  ],\n       [ 1.  ,  3.2 , 10.24],\n       [ 1.  ,  3.2 , 10.24]])"
          },
          "metadata": {}
        }
      ]
    },
    {
      "cell_type": "markdown",
      "source": "**fit_transform** takes our x values, and output a list of our data raised from power of 0 to power of 2 (since we set the degree of our polynomial to 2).\n\nThe equation and the sample example is displayed below.\n\n$$\n\\begin{bmatrix}\nv\\_1\\\\\\\\\\\\\nv\\_2\\\\\\\\\n\\vdots\\\\\\\\\nv_n\n\\end{bmatrix}\\longrightarrow \\begin{bmatrix}\n\\[ 1 & v\\_1 & v\\_1^2]\\\\\\\\\n\\[ 1 & v\\_2 & v\\_2^2]\\\\\\\\\n\\vdots & \\vdots & \\vdots\\\\\\\\\n\\[ 1 & v_n & v_n^2]\n\\end{bmatrix}\n$$\n\n$$\n\\begin{bmatrix}\n2.\\\\\\\\\n2.4\\\\\\\\\n1.5\\\\\\\\\n\\vdots\n\\end{bmatrix} \\longrightarrow \\begin{bmatrix}\n\\[ 1 & 2. & 4.]\\\\\\\\\n\\[ 1 & 2.4 & 5.76]\\\\\\\\\n\\[ 1 & 1.5 & 2.25]\\\\\\\\\n\\vdots & \\vdots & \\vdots\\\\\\\\\n\\end{bmatrix}\n$$\n",
      "metadata": {}
    },
    {
      "cell_type": "markdown",
      "source": "It looks like feature sets for multiple linear regression analysis, right? Yes. It Does.\nIndeed, Polynomial regression is a special case of linear regression, with the main idea of how do you select your features. Just consider replacing the  $x$ with $x\\_1$, $x\\_1^2$ with $x\\_2$, and so on. Then the 2nd degree equation would be turn into:\n\n$$y = b + \\theta\\_1  x\\_1 + \\theta\\_2 x\\_2$$\n\nNow, we can deal with it as a 'linear regression' problem. Therefore, this polynomial regression is considered to be a special case of traditional multiple linear regression. So, you can use the same mechanism as linear regression to solve such problems.\n\nso we can use **LinearRegression()** function to solve it:\n",
      "metadata": {}
    },
    {
      "cell_type": "code",
      "source": "clf = linear_model.LinearRegression()\ntrain_y_ = clf.fit(train_x_poly, train_y)\n# The coefficients\nprint ('Coefficients: ', clf.coef_)\nprint ('Intercept: ',clf.intercept_)",
      "metadata": {
        "button": false,
        "new_sheet": false,
        "run_control": {
          "read_only": false
        },
        "trusted": true
      },
      "execution_count": 11,
      "outputs": [
        {
          "name": "stdout",
          "text": "Coefficients:  [[ 0.         49.07358629 -1.27066103]]\nIntercept:  [109.54157892]\n",
          "output_type": "stream"
        }
      ]
    },
    {
      "cell_type": "markdown",
      "source": "As mentioned before, **Coefficient** and **Intercept** , are the parameters of the fit curvy line.\nGiven that it is a typical multiple linear regression, with 3 parameters, and knowing that the parameters are the intercept and coefficients of hyperplane, sklearn has estimated them from our new set of feature sets. Lets plot it:\n",
      "metadata": {}
    },
    {
      "cell_type": "code",
      "source": "plt.scatter(train.ENGINESIZE, train.CO2EMISSIONS,  color='blue')\nXX = np.arange(0.0, 10.0, 0.1)\nyy = clf.intercept_[0]+ clf.coef_[0][1]*XX+ clf.coef_[0][2]*np.power(XX, 2)\nplt.plot(XX, yy, '-r' )\nplt.xlabel(\"Engine size\")\nplt.ylabel(\"Emission\")",
      "metadata": {
        "trusted": true
      },
      "execution_count": 12,
      "outputs": [
        {
          "execution_count": 12,
          "output_type": "execute_result",
          "data": {
            "text/plain": "Text(0, 0.5, 'Emission')"
          },
          "metadata": {}
        },
        {
          "output_type": "display_data",
          "data": {
            "text/plain": "<Figure size 432x288 with 1 Axes>",
            "image/png": "[encoded data removed]"
          },
          "metadata": {
            "needs_background": "light"
          }
        }
      ]
    },
    {
      "cell_type": "markdown",
      "source": "<h2 id=\"evaluation\">Evaluation</h2>\n",
      "metadata": {
        "button": false,
        "new_sheet": false,
        "run_control": {
          "read_only": false
        }
      }
    },
    {
      "cell_type": "code",
      "source": "from sklearn.metrics import r2_score\n\ntest_x_poly = poly.transform(test_x)\ntest_y_ = clf.predict(test_x_poly)\n\nprint(\"Mean absolute error: %.2f\" % np.mean(np.absolute(test_y_ - test_y)))\nprint(\"Residual sum of squares (MSE): %.2f\" % np.mean((test_y_ - test_y) ** 2))\nprint(\"R2-score: %.2f\" % r2_score(test_y,test_y_ ) )",
      "metadata": {
        "trusted": true
      },
      "execution_count": 13,
      "outputs": [
        {
          "name": "stdout",
          "text": "Mean absolute error: 22.51\nResidual sum of squares (MSE): 889.10\nR2-score: 0.76\n",
          "output_type": "stream"
        }
      ]
    },
    {
      "cell_type": "markdown",
      "source": "<h2 id=\"practice\">Practice</h2>\nTry to use a polynomial regression with the dataset but this time with degree three (cubic). Does it result in better accuracy?\n",
      "metadata": {}
    },
    {
      "cell_type": "code",
      "source": "# write your code here\npoly3 = PolynomialFeatures(degree=3)\ntrain_x_poly3 = poly3.fit_transform(train_x)\n\ntrain_y3 = clf.fit(train_x_poly3, train_y)\n\ntest_x_poly3 = poly3.transform(test_x)\ntest_y3 = clf.predict(test_x_poly3)\n\nprint(\"Mean absolute error: %.2f\" % np.mean(np.absolute(test_y3 - test_y)))\nprint(\"Residual sum of squares (MSE): %.2f\" % np.mean((test_y3 - test_y) ** 2))\nprint(\"R2-score: %.2f\" % r2_score(test_y,test_y3 ) )",
      "metadata": {
        "trusted": true
      },
      "execution_count": 16,
      "outputs": [
        {
          "name": "stdout",
          "text": "Mean absolute error: 22.58\nResidual sum of squares (MSE): 893.53\nR2-score: 0.76\n",
          "output_type": "stream"
        }
      ]
    },
    {
      "cell_type": "code",
      "source": "plt.scatter(train.ENGINESIZE, train.CO2EMISSIONS,  color='blue')\nXX = np.arange(0.0, 10.0, 0.1)\nyy = clf.intercept_[0]+ clf.coef_[0][1]*XX+ clf.coef_[0][2]*np.power(XX, 2)\nplt.plot(XX, yy, '-r' )\nplt.xlabel(\"Engine size\")\nplt.ylabel(\"Emission\")",
      "metadata": {
        "trusted": true
      },
      "execution_count": 17,
      "outputs": [
        {
          "execution_count": 17,
          "output_type": "execute_result",
          "data": {
            "text/plain": "Text(0, 0.5, 'Emission')"
          },
          "metadata": {}
        },
        {
          "output_type": "display_data",
          "data": {
            "text/plain": "<Figure size 432x288 with 1 Axes>",
            "image/png": "[encoded data removed]"
          },
          "metadata": {
            "needs_background": "light"
          }
        }
      ]
    },
    {
      "cell_type": "markdown",
      "source": "<details><summary>Click here for the solution</summary>\n\n```python\npoly3 = PolynomialFeatures(degree=3)\ntrain_x_poly3 = poly3.fit_transform(train_x)\nclf3 = linear_model.LinearRegression()\ntrain_y3_ = clf3.fit(train_x_poly3, train_y)\n\n# The coefficients\nprint ('Coefficients: ', clf3.coef_)\nprint ('Intercept: ',clf3.intercept_)\nplt.scatter(train.ENGINESIZE, train.CO2EMISSIONS,  color='blue')\nXX = np.arange(0.0, 10.0, 0.1)\nyy = clf3.intercept_[0]+ clf3.coef_[0][1]*XX + clf3.coef_[0][2]*np.power(XX, 2) + clf3.coef_[0][3]*np.power(XX, 3)\nplt.plot(XX, yy, '-r' )\nplt.xlabel(\"Engine size\")\nplt.ylabel(\"Emission\")\ntest_x_poly3 = poly3.transform(test_x)\ntest_y3_ = clf3.predict(test_x_poly3)\nprint(\"Mean absolute error: %.2f\" % np.mean(np.absolute(test_y3_ - test_y)))\nprint(\"Residual sum of squares (MSE): %.2f\" % np.mean((test_y3_ - test_y) ** 2))\nprint(\"R2-score: %.2f\" % r2_score(test_y,test_y3_ ) )\n\n```\n\n</details>\n",
      "metadata": {}
    },
    {
      "cell_type": "code",
      "source": "",
      "metadata": {
        "button": false,
        "new_sheet": false,
        "run_control": {
          "read_only": false
        }
      },
      "execution_count": null,
      "outputs": []
    },
    {
      "cell_type": "markdown",
      "source": "<h2>Want to learn more?</h2>\n\nIBM SPSS Modeler is a comprehensive analytics platform that has many machine learning algorithms. It has been designed to bring predictive intelligence to decisions made by individuals, by groups, by systems – by your enterprise as a whole. A free trial is available through this course, available here: <a href=\"https://www.ibm.com/analytics/spss-statistics-software?utm_medium=Exinfluencer&utm_source=Exinfluencer&utm_content=000026UJ&utm_term=10006555&utm_id=NA-SkillsNetwork-Channel-SkillsNetworkCoursesIBMDeveloperSkillsNetworkML0101ENSkillsNetwork20718538-2021-01-01\">SPSS Modeler</a>\n\nAlso, you can use Watson Studio to run these notebooks faster with bigger datasets. Watson Studio is IBM's leading cloud solution for data scientists, built by data scientists. With Jupyter notebooks, RStudio, Apache Spark and popular libraries pre-packaged in the cloud, Watson Studio enables data scientists to collaborate on their projects without having to install anything. Join the fast-growing community of Watson Studio users today with a free account at <a href=\"https://www.ibm.com/cloud/watson-studio?utm_medium=Exinfluencer&utm_source=Exinfluencer&utm_content=000026UJ&utm_term=10006555&utm_id=NA-SkillsNetwork-Channel-SkillsNetworkCoursesIBMDeveloperSkillsNetworkML0101ENSkillsNetwork20718538-2021-01-01\">Watson Studio</a>\n",
      "metadata": {}
    },
    {
      "cell_type": "markdown",
      "source": "### Thank you for completing this lab!\n\n## Author\n\nSaeed Aghabozorgi\n\n### Other Contributors\n\n<a href=\"https://www.linkedin.com/in/joseph-s-50398b136/?utm_medium=Exinfluencer&utm_source=Exinfluencer&utm_content=000026UJ&utm_term=10006555&utm_id=NA-SkillsNetwork-Channel-SkillsNetworkCoursesIBMDeveloperSkillsNetworkML0101ENSkillsNetwork20718538-2021-01-01\" target=\"_blank\">Joseph Santarcangelo</a>\n\n## Change Log\n\n| Date (YYYY-MM-DD) | Version | Changed By | Change Description                                    |\n| ----------------- | ------- | ---------- | ----------------------------------------------------- |\n| 2021-01-11        | 2.3     | Lakshmi    | Changed R2-score calculation in polynomial regression |\n| 2020-11-04        | 2.2     | Lakshmi    | Made changes in markdown of equations                 |\n| 2020-11-03        | 2.1     | Lakshmi    | Made changes in URL                                   |\n| 2020-08-27        | 2.0     | Lavanya    | Moved lab to course repo in GitLab                    |\n|                   |         |            |                                                       |\n|                   |         |            |                                                       |\n\n## <h3 align=\"center\"> © IBM Corporation 2020. All rights reserved. <h3/>\n",
      "metadata": {}
    }
  ]
}